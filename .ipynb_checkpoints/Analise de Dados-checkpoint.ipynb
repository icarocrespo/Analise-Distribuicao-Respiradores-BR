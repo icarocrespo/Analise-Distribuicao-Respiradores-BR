{
 "cells": [
  {
   "cell_type": "markdown",
   "metadata": {},
   "source": [
    "## Distribuição de Respiradores pelo Ministério da Saúde em 2020.\n",
    "##### Esta base de dados contém informações sobre respiradores distribuídos pelo Ministério da Saúde a estados e municípios.\n",
    "##### Os dados disponibilizados pelo Poder Executivo Federal em formato aberto são de livre utilização e reúso, observados os termos constantes do inc. IV do art 3º e do art. 4 do Decreto nº 8777/16.\n",
    "###### Fonte: https://dados.gov.br/dataset/distribuicao-de-respiradores"
   ]
  },
  {
   "cell_type": "markdown",
   "metadata": {},
   "source": [
    "#### Dicionário de dados:\n",
    "| Dado       | Descrição                                                                                                     |\n",
    "|------------------------|---------------------------------------------------------------------------------------------------------------|\n",
    "| Data                    | Data de solicitação de entrega à distribuidora                                   |\n",
    "| Fornecedor          |  Nome da empresa fornecedora dos equipamentos                                                                    |\n",
    "| Destino            | Estado de destino do respirador                                                       |\n",
    "| Estado/Municipio               | tipo de unidade da federação que será o destino da entrega                                                                   |\n",
    "| Tipo                     | Tipo do equipamento                                                                 |\n",
    "| Quantidade                     | Unidades entregues                                |\n",
    "| Valor             | Valor total da entrega em real                                                                  |\n",
    "| Destinatario       | Entidade que recebeu o bem          |\n",
    "| UF         |  UF de entrega                                 |\n",
    "| Data de Entrega | Data de entrega no destinatário |\n"
   ]
  },
  {
   "cell_type": "markdown",
   "metadata": {},
   "source": [
    "## Carregamento de Dados\n",
    "### Dataframe gerado a partir do arquivo .csv "
   ]
  },
  {
   "cell_type": "code",
   "execution_count": 9,
   "metadata": {},
   "outputs": [],
   "source": [
    "import numpy as np\n",
    "from numpy import nan as NA\n",
    "import pandas as pd\n",
    "import re\n",
    "import matplotlib.pyplot as plt\n",
    "#import seaborn as sea\n"
   ]
  },
  {
   "cell_type": "code",
   "execution_count": 181,
   "metadata": {},
   "outputs": [
    {
     "data": {
      "text/html": [
       "<div>\n",
       "<style scoped>\n",
       "    .dataframe tbody tr th:only-of-type {\n",
       "        vertical-align: middle;\n",
       "    }\n",
       "\n",
       "    .dataframe tbody tr th {\n",
       "        vertical-align: top;\n",
       "    }\n",
       "\n",
       "    .dataframe thead th {\n",
       "        text-align: right;\n",
       "    }\n",
       "</style>\n",
       "<table border=\"1\" class=\"dataframe\">\n",
       "  <thead>\n",
       "    <tr style=\"text-align: right;\">\n",
       "      <th></th>\n",
       "      <th>DATA</th>\n",
       "      <th>FORNECEDOR</th>\n",
       "      <th>DESTINO</th>\n",
       "      <th>ESTADO/MUNICIPIO</th>\n",
       "      <th>TIPO</th>\n",
       "      <th>QUANTIDADE</th>\n",
       "      <th>VALOR</th>\n",
       "      <th>DESTINATARIO</th>\n",
       "      <th>UF</th>\n",
       "      <th>DATA DE ENTREGA</th>\n",
       "    </tr>\n",
       "  </thead>\n",
       "  <tbody>\n",
       "    <tr>\n",
       "      <th>0</th>\n",
       "      <td>19/04/2020</td>\n",
       "      <td>VYAIRE</td>\n",
       "      <td>RIO DE JANEIRO</td>\n",
       "      <td>ESTADO</td>\n",
       "      <td>UTI</td>\n",
       "      <td>40</td>\n",
       "      <td>2400000,00</td>\n",
       "      <td>ALMOXARIFADO ESTADUAL DE MEDICAMENTOS - RIO DE...</td>\n",
       "      <td>RJ</td>\n",
       "      <td>19/04/2020</td>\n",
       "    </tr>\n",
       "    <tr>\n",
       "      <th>1</th>\n",
       "      <td>22/04/2020</td>\n",
       "      <td>VYAIRE</td>\n",
       "      <td>RIO DE JANEIRO</td>\n",
       "      <td>ESTADO</td>\n",
       "      <td>UTI</td>\n",
       "      <td>20</td>\n",
       "      <td>1200000,00</td>\n",
       "      <td>LABORATÓRIO QUÍMICO FARMACÊUTICO DE AERONÁUTICA</td>\n",
       "      <td>RJ</td>\n",
       "      <td>23/04/2020</td>\n",
       "    </tr>\n",
       "    <tr>\n",
       "      <th>2</th>\n",
       "      <td>08/05/2020</td>\n",
       "      <td>MAGNAMED</td>\n",
       "      <td>RIO DE JANEIRO</td>\n",
       "      <td>ESTADO</td>\n",
       "      <td>UTI</td>\n",
       "      <td>25</td>\n",
       "      <td>1500000,00</td>\n",
       "      <td>ALMOXARIFADO ESTADUAL DE MEDICAMENTOS - RIO DE...</td>\n",
       "      <td>RJ</td>\n",
       "      <td>09/05/2020</td>\n",
       "    </tr>\n",
       "    <tr>\n",
       "      <th>3</th>\n",
       "      <td>08/05/2020</td>\n",
       "      <td>KTK</td>\n",
       "      <td>RIO DE JANEIRO</td>\n",
       "      <td>ESTADO</td>\n",
       "      <td>UTI</td>\n",
       "      <td>15</td>\n",
       "      <td>900000,00</td>\n",
       "      <td>ALMOXARIFADO ESTADUAL DE MEDICAMENTOS - RIO DE...</td>\n",
       "      <td>RJ</td>\n",
       "      <td>09/05/2020</td>\n",
       "    </tr>\n",
       "    <tr>\n",
       "      <th>4</th>\n",
       "      <td>09/05/2020</td>\n",
       "      <td>LEISTUNG</td>\n",
       "      <td>RIO DE JANEIRO</td>\n",
       "      <td>ESTADO</td>\n",
       "      <td>UTI</td>\n",
       "      <td>6</td>\n",
       "      <td>360000,00</td>\n",
       "      <td>ALMOXARIFADO ESTADUAL DE MEDICAMENTOS - RIO DE...</td>\n",
       "      <td>RJ</td>\n",
       "      <td>09/05/2020</td>\n",
       "    </tr>\n",
       "  </tbody>\n",
       "</table>\n",
       "</div>"
      ],
      "text/plain": [
       "         DATA FORNECEDOR         DESTINO ESTADO/MUNICIPIO TIPO  QUANTIDADE  \\\n",
       "0  19/04/2020     VYAIRE  RIO DE JANEIRO           ESTADO  UTI          40   \n",
       "1  22/04/2020     VYAIRE  RIO DE JANEIRO           ESTADO  UTI          20   \n",
       "2  08/05/2020   MAGNAMED  RIO DE JANEIRO           ESTADO  UTI          25   \n",
       "3  08/05/2020        KTK  RIO DE JANEIRO           ESTADO  UTI          15   \n",
       "4  09/05/2020   LEISTUNG  RIO DE JANEIRO           ESTADO  UTI           6   \n",
       "\n",
       "        VALOR                                       DESTINATARIO  UF  \\\n",
       "0  2400000,00  ALMOXARIFADO ESTADUAL DE MEDICAMENTOS - RIO DE...  RJ   \n",
       "1  1200000,00    LABORATÓRIO QUÍMICO FARMACÊUTICO DE AERONÁUTICA  RJ   \n",
       "2  1500000,00  ALMOXARIFADO ESTADUAL DE MEDICAMENTOS - RIO DE...  RJ   \n",
       "3   900000,00  ALMOXARIFADO ESTADUAL DE MEDICAMENTOS - RIO DE...  RJ   \n",
       "4   360000,00  ALMOXARIFADO ESTADUAL DE MEDICAMENTOS - RIO DE...  RJ   \n",
       "\n",
       "  DATA DE ENTREGA  \n",
       "0      19/04/2020  \n",
       "1      23/04/2020  \n",
       "2      09/05/2020  \n",
       "3      09/05/2020  \n",
       "4      09/05/2020  "
      ]
     },
     "execution_count": 181,
     "metadata": {},
     "output_type": "execute_result"
    }
   ],
   "source": [
    "data = pd.read_csv('dataset/distribuicao_respiradores.csv', sep=';')\n",
    "data.head()"
   ]
  },
  {
   "cell_type": "markdown",
   "metadata": {},
   "source": [
    "## Limpeza de Dados\n",
    "1) Normalizaçar a coluna \"DESTINARIO\" para que informe apenas o município. \n",
    "\n",
    "2) Eliminar linhas com alguma informação vazia. \n",
    "\n",
    "3) Eliminar linhas duplicadas nos dados das colunas\n",
    "\n",
    "4) Normalizar os dados para um melhor entendimento. \n",
    "\n",
    "\n",
    "\n",
    " "
   ]
  },
  {
   "cell_type": "markdown",
   "metadata": {},
   "source": [
    "### 1) Normalização da coluna \"DESTINARIO\" para que informe apenas o município. \n",
    "##### OBS: essa limpeza foi executada apenas nas linhas referentes ao estado do Rio Grande do Sul."
   ]
  },
  {
   "cell_type": "code",
   "execution_count": 151,
   "metadata": {},
   "outputs": [],
   "source": [
    "data['DESTINATARIO'].replace('Secretaria Municipal de Saúde (Porto Alegre)', 'Porto Alegre', inplace = True)\n",
    "data['DESTINATARIO'].replace('Secretaria Municipal de Saúde (ALVORADA)', 'Alvorada', inplace = True)\n",
    "data['DESTINATARIO'].replace('Secretaria Municipal de Saúde (BAGÉ)', 'Bagé', inplace = True)\n",
    "data['DESTINATARIO'].replace('Secretaria Municipal de Saúde (CAXIAS DO SUL)', 'Caxias do Sul', inplace = True)\n",
    "data['DESTINATARIO'].replace('Secretaria Municipal de Saúde (LIVRAMENTO)', 'Santana do Livramento', inplace = True)\n",
    "data['DESTINATARIO'].replace('Secretaria Municipal de Saúde (PASSO FUNDO)', 'Passo Fundo', inplace = True)\n",
    "data['DESTINATARIO'].replace('Secretaria Municipal de Saúde (RIO PARDO)', 'Rio Pardo', inplace = True)\n",
    "data['DESTINATARIO'].replace('Secretaria Municipal de Saúde (SANANDUVA)', 'Sananduva', inplace = True)\n",
    "data['DESTINATARIO'].replace('Secretaria Municipal de Saúde - (SANTA CRUZ DO SUL)', 'Santa Cruz do Sul', inplace = True)\n",
    "data['DESTINATARIO'].replace('Secretaria Municipal de Saúde (SÃO LEOPOLDO)', 'São Leopoldo', inplace = True)\n",
    "data['DESTINATARIO'].replace('Secretaria Municipal de Saúde (VACARIA)', 'Vacaria', inplace = True)\n",
    "data['DESTINATARIO'].replace('ALEGRETE - Hospital Santa Casa de Alegrete', 'Alegrete', inplace = True)\n",
    "data['DESTINATARIO'].replace('CACHOEIRINHA - HOSPITAL PADRE JEREMIAS', 'Cachoeirinha', inplace = True)\n",
    "data['DESTINATARIO'].replace('CAMAQUÃ - Hospital Nossa Senhora de Camaquã', 'Camaquã', inplace = True)\n",
    "data['DESTINATARIO'].replace('CANGUÇU - Hospital de Canguçu', 'Canguçu', inplace = True)\n",
    "data['DESTINATARIO'].replace('CANOAS - Hospital Nossa Senhora das Graças', 'Canoas', inplace = True)\n",
    "data['DESTINATARIO'].replace('CANOAS - HPS Canoas', 'Canoas', inplace = True)\n",
    "data['DESTINATARIO'].replace('CARAZINHO - Hospital Comunitário de Carazinho', 'Carazinho', inplace = True)\n",
    "data['DESTINATARIO'].replace('CAXIAS DO SUL - Hospital Pio Sodal Damas Caridade', 'Caxias do Sul', inplace = True)\n",
    "data['DESTINATARIO'].replace('CAXIAS DO SUL - Hospital Virvi Ramos', 'Caxias do Sul', inplace = True)\n",
    "data['DESTINATARIO'].replace('GRAVATAÍ - Hospital Dom João Becker', 'Gravataí', inplace = True)\n",
    "data['DESTINATARIO'].replace('IJUÍ - Hospital Caridade de Ijuí', 'Ijuí', inplace = True)\n",
    "data['DESTINATARIO'].replace('MONTENEGRO - HOSPITAL MONTENEGRO', 'Montenegro', inplace = True)\n",
    "data['DESTINATARIO'].replace('PAROBÉ - Hospital São Francisco de Assis', 'Parobé', inplace = True)\n",
    "data['DESTINATARIO'].replace('PORTO ALEGRE - Hospital Vilanova', 'Porto Alegre', inplace = True)\n",
    "data['DESTINATARIO'].replace('SANTA CRUZ DO SUL - Hospital Ana Nery', 'Santa Cruz do Sul', inplace = True)\n",
    "data['DESTINATARIO'].replace('SANTA ROSA - HOSPITAL VIDA E SAUDE ABOSCO', 'Santa Rosa', inplace = True)\n",
    "data['DESTINATARIO'].replace('SANTANA DO LIVRAMENTO - Santa Casa de Santana do Livramento', 'Santana do Livramento', inplace = True)\n",
    "data['DESTINATARIO'].replace('SÃO GABRIEL - Hospital Santa Casa de São Gabriel', 'São Gabriel', inplace = True)\n",
    "data['DESTINATARIO'].replace('SÃO JERÔNIMO - Hospital de Caridade São Jerônimo', 'São Jerônimo', inplace = True)\n",
    "data['DESTINATARIO'].replace('SÃO LEOPOLDO - HOSPITAL CENTENÁRIO', 'São Leopoldo', inplace = True)\n",
    "data['DESTINATARIO'].replace('SÃO LUIZ GONZAGA - Hopsital São Luiz Gonzaga', 'São Luiz Gonzaga', inplace = True)\n",
    "data['DESTINATARIO'].replace('SAPIRANGA - HOSPITAL SAPIRANGA', 'Sapiranga', inplace = True)\n",
    "data['DESTINATARIO'].replace('TAQUARA - Hospital Bom Jesus', 'Taquara', inplace = True)\n",
    "data['DESTINATARIO'].replace('URUGUAIANA - Santa Casa de Uruguaiana', 'Uruguaiana', inplace = True)\n",
    "data['DESTINATARIO'].replace('VACARIA - Hospital Nossa Senhora da Oliveira', 'Vacaria', inplace = True)\n",
    "data['DESTINATARIO'].replace('PORTO ALEGRE - Secretaria Estadual de Saúde', 'Porto Alegre', inplace = True)\n",
    "data['DESTINATARIO'].replace('Porto Alegre - SMS (Irmandade da Santa Casa de Misericórdia de Porto Alegre)', 'Porto Alegre', inplace = True)\n",
    "data['DESTINATARIO'].replace('CAMBARA DO SUL - Secretaria Municipal de Saúde', 'Cambara do Sul', inplace = True)\n",
    "data['DESTINATARIO'].replace('CANELA - Secretaria Municipal de Saúde', 'Canela', inplace = True)\n",
    "data['DESTINATARIO'].replace('CRUZEIRO DO SUL - Secretaria Municipal de Saúde', 'Cruzeiro do Sul', inplace = True)\n",
    "data['DESTINATARIO'].replace('PELOTAS - Secretaria Municipal de Saúde', 'Pelotas', inplace = True)\n",
    "data['DESTINATARIO'].replace('SAO JOSE DO NORTE - Secretaria Municipal de Saúde', 'São José do Norte', inplace = True)\n",
    "data['DESTINATARIO'].replace('SAO LOURENCO DO SUL - Secretaria Municipal de Saúde', 'São Lourenço do Sul', inplace = True)\n",
    "data['DESTINATARIO'].replace('SECR MUN DE SAUDE DE CAMAQUA  RS', 'Camaquã', inplace = True)\n",
    "data['DESTINATARIO'].replace('SMS de Cambara do Sul', 'Cambará do Sul', inplace = True)\n",
    "data['DESTINATARIO'].replace('SMS de Novo Hamburgo', 'Novo Hamburgo', inplace = True)\n",
    "data['DESTINATARIO'].replace('SMS de Porto Alegre', 'Porto Alegre', inplace = True)\n",
    "data['DESTINATARIO'].replace('SMS de Rio Grande', 'Rio Grande', inplace = True)\n",
    "data['DESTINATARIO'].replace('SMS de Santa Vitoria do Palmar', 'Santa Vitória do Palmar', inplace = True)\n",
    "data['DESTINATARIO'].replace('SECR MUN DE SAUDE DE ERVAL GRANDE  RS', 'Erval Grande', inplace = True)\n",
    "data['DESTINATARIO'].replace('SMS DE  CORONEL BICACO  RS', 'Coronel Bicaco', inplace = True)\n",
    "data['DESTINATARIO'].replace('SECR MUN DE SAUDE DE CAMPINA DAS MISSOES', 'Campina das Missões', inplace = True)\n",
    "data['DESTINATARIO'].replace('SECR MUN DE SAUDE DE IRAI  RS', 'Iraí', inplace = True)\n",
    "data['DESTINATARIO'].replace('SMS DE TRES DE MAIO  RS', 'Três de Maio', inplace = True)\n",
    "data['DESTINATARIO'].replace('SMS DE GIRUA  RS', 'Giruá', inplace = True)\n",
    "data['DESTINATARIO'].replace('SECR MUN DE SAUDE DE  FREDERICO WESTPHAL', 'Frederico Westphalen', inplace = True)\n",
    "data['DESTINATARIO'].replace('SMS de Encantado', 'Encantado', inplace = True)\n",
    "data['DESTINATARIO'].replace('SMS DE GUARANI DAS MISSOES  RS', 'Guarani das Missões', inplace = True)\n",
    "data['DESTINATARIO'].replace('SMS de Charqueadas', 'Charqueadas', inplace = True)\n",
    "data['DESTINATARIO'].replace('SECR MUN DE SAUDE DE PEDRO OSORIO  RS', 'Pedro Osório', inplace = True)\n",
    "data['DESTINATARIO'].replace('SECR MUN DE SAUDE DE SAO FRANCISCO DE PA', 'São Francisco de Paula', inplace = True)\n",
    "data['DESTINATARIO'].replace('SMS de Sao Luiz Gonzaga', 'Luiz Gonzaga', inplace = True)\n",
    "data['DESTINATARIO'].replace('SMS de Capao da Canoa', 'Capão da Canoa', inplace = True)\n",
    "data['DESTINATARIO'].replace('SMS DE MONTENEGRO  RS', 'Montenegro', inplace = True)\n",
    "data['DESTINATARIO'].replace('SECR MUN DE SAUDE DE PORTO XAVIER  RS', 'Porto Xavier', inplace = True)\n",
    "data['DESTINATARIO'].replace('SECR MUN DE SAUDE DE SANTO ANTONIO DA PA', 'Santo Antônio da Patrulha', inplace = True)\n",
    "data['DESTINATARIO'].replace('SECR MUN DE SAUDE DE TRES PASSOS  RS', 'Três Passos', inplace = True)\n",
    "data['DESTINATARIO'].replace('SMS de Dom Pedrito', 'Dom Pedrito', inplace = True)\n",
    "data['DESTINATARIO'].replace('SMS de Sao Jeronimo', 'São Jerônimo', inplace = True)\n",
    "data['DESTINATARIO'].replace('SECR MUN DE SAUDE DE CARAZINHO  RS', 'Carazinho', inplace = True)\n",
    "data['DESTINATARIO'].replace('SECR MUN DE SAUDE DE OSORIO  RS', 'Osório', inplace = True)\n",
    "data['DESTINATARIO'].replace('SECR MUN DE SAUDE DE MARIANA PIMENTEL  R', 'Mariana Pimentel', inplace = True)\n",
    "data['DESTINATARIO'].replace('SMS de Santana do Livramento', 'Santana do Livramento', inplace = True)\n",
    "data['DESTINATARIO'].replace('SMS de Rosario do Sul', 'Rosário do Sul', inplace = True)\n",
    "data['DESTINATARIO'].replace('SMS de Cacapava do Sul', 'Caçapava do Sul', inplace = True)\n",
    "data['DESTINATARIO'].replace('SECR. MUN. DE SAUDE DE CACHOEIRINHA', 'Cachoeirinha', inplace = True)\n",
    "data['DESTINATARIO'].replace('SECR MUN DE SAUDE DE SAO FRANCISCO DE PAULA', 'São Francisco de Paula', inplace = True)\n",
    "data['DESTINATARIO'].replace('SECR MUN DE SAUDE DE MUCUM  RS', 'Muçum', inplace = True)\n",
    "data['DESTINATARIO'].replace('SECRETARIA MUNICIPAL DE SAUDE DE ITAQUI', 'Itaqui', inplace = True)\n",
    "data['DESTINATARIO'].replace('SMS de Passo Fundo', 'Passo Fundo', inplace = True)\n",
    "data['DESTINATARIO'].replace('SECR MUN DE SAUDE DE DOIS LAJEADOS RS', 'Dois Lajeados', inplace = True)\n",
    "data['DESTINATARIO'].replace('SECR MUN DE SAUDE DE MUCUM RS', 'Muçum', inplace = True)\n",
    "data['DESTINATARIO'].replace('SMS DE TUPANCIRETA RS', 'Tupanciretã', inplace = True)\n",
    "data['DESTINATARIO'].replace('SMS DE PALMEIRA DAS MISSOES', 'Palmeira das Missões', inplace = True)\n",
    "data['DESTINATARIO'].replace('SECR MUN DE SAUDE DE ACEGUA RS', 'Aceguá', inplace = True)\n",
    "data['DESTINATARIO'].replace('SMS de Cacequi', 'Cacequi', inplace = True)\n",
    "data['DESTINATARIO'].replace('SMS de Jaguari', 'Jaquari', inplace = True)\n",
    "data['DESTINATARIO'].replace('SMS DE MATA RS', 'Mata', inplace = True)\n",
    "data['DESTINATARIO'].replace('SMS de Nova Esperanca do Sul', 'Nova Esperança do Sul', inplace = True)\n",
    "data['DESTINATARIO'].replace('SECR MUN DE SAUDE DE QUARAI RS', 'Quaraí', inplace = True)\n",
    "data['DESTINATARIO'].replace('SMS de Sao Pedro do Sul', 'São Pedro do Sul', inplace = True)\n",
    "data['DESTINATARIO'].replace('SMS de Sao Vicente do Sul', 'São Vicente do Sul', inplace = True)\n",
    "data['DESTINATARIO'].replace('SMS de Unistalda', 'Unistalda', inplace = True)\n",
    "data['DESTINATARIO'].replace('SECR MUN DE SAUDE DE SANTO AUGUSTO RS', 'Santo Augusto', inplace = True)"
   ]
  },
  {
   "cell_type": "code",
   "execution_count": 153,
   "metadata": {},
   "outputs": [],
   "source": [
    "#dadosrs = data[data['UF'] == 'RS']\n",
    "#dadosrs"
   ]
  },
  {
   "cell_type": "markdown",
   "metadata": {},
   "source": [
    "### 2) Eliminando linhas com alguma informação vazia. "
   ]
  },
  {
   "cell_type": "code",
   "execution_count": 171,
   "metadata": {},
   "outputs": [],
   "source": [
    "data['DATA'].replace('-', NA, inplace = True)\n",
    "data['FORNECEDOR'].replace('-', NA, inplace = True)\n",
    "data['DESTINO'].replace('-', NA, inplace = True)\n",
    "data['ESTADO/MUNICIPIO'].replace('-', NA, inplace = True)\n",
    "data['TIPO'].replace('-', NA, inplace = True)\n",
    "data['QUANTIDADE'].replace('-', NA, inplace = True)\n",
    "data['VALOR'].replace('-', NA, inplace = True)\n",
    "data['DESTINATARIO'].replace('-', NA, inplace = True)\n",
    "data['UF'].replace('-', NA, inplace = True)\n",
    "data['DATA DE ENTREGA'].replace('-', NA, inplace = True)\n",
    "data.dropna(how='any', inplace= True)\n",
    "\n",
    "\n",
    "\n",
    "\n"
   ]
  },
  {
   "cell_type": "markdown",
   "metadata": {},
   "source": [
    "### 3) Eliminando linhas duplicadas nos dados das colunas\n"
   ]
  },
  {
   "cell_type": "code",
   "execution_count": 172,
   "metadata": {},
   "outputs": [],
   "source": [
    "data.drop_duplicates(inplace= True)"
   ]
  },
  {
   "cell_type": "markdown",
   "metadata": {},
   "source": [
    "### 4) Normalizando os dados para um melhor entendimento. "
   ]
  },
  {
   "cell_type": "code",
   "execution_count": 176,
   "metadata": {},
   "outputs": [],
   "source": [
    "data['TIPO'].replace('TRANSPORTE USA', 'Importado', inplace = True)\n",
    "data['TIPO'].replace('TRANSPORTE', 'Nacional', inplace = True)\n",
    "data['TIPO'].replace('UTI', 'Unidade de Tratamento Intensivo', inplace = True)\n",
    "data['FORNECEDOR'].replace('VYAIRE LTV 2200 USA', 'Vyaire', inplace = True)\n",
    "data['FORNECEDOR'].replace('VYAIRE LTV 1200 USA', 'Vyaire', inplace = True)\n",
    "data['FORNECEDOR'].replace('VYAIRE USA', 'Vyaire', inplace = True)\n",
    "data['FORNECEDOR'].replace('KTK/VYAIRE', 'KTK e Vyaire', inplace = True)\n",
    "data['FORNECEDOR'].replace('LEISTUNG/VYAIRE', 'Leistung e Vyaire', inplace = True)\n",
    "data['FORNECEDOR'].replace('MAGNAMED/REQUISIÇÃO', 'MAGNAMED', inplace = True)\n",
    "data['FORNECEDOR'].replace('SUZANO/Zhongxun Medical', 'Suzano e Zhongxun Medical', inplace = True)\n",
    "data['FORNECEDOR'].replace('SUZANO/Resmed', 'Suzano e Resmed', inplace = True)\n",
    "data['FORNECEDOR'].replace('L C DADDE COM AT INST MAT MEDICO EPP', 'L.C DADDE', inplace = True)\n",
    "\n"
   ]
  },
  {
   "cell_type": "markdown",
   "metadata": {},
   "source": [
    "## Análise de Dados"
   ]
  },
  {
   "cell_type": "markdown",
   "metadata": {},
   "source": [
    "### Questões para a análise da Distribuição de Respiradores (Ministério da Saúde - MS)\n"
   ]
  },
  {
   "cell_type": "markdown",
   "metadata": {},
   "source": [
    "#### 1) Quais foram os estados que mais receberam respiradores?\n"
   ]
  },
  {
   "cell_type": "code",
   "execution_count": null,
   "metadata": {},
   "outputs": [],
   "source": []
  },
  {
   "cell_type": "markdown",
   "metadata": {},
   "source": [
    "#### 2) Quais foram os fornecedores que mais disponibilizaram respiradores?"
   ]
  },
  {
   "cell_type": "code",
   "execution_count": null,
   "metadata": {},
   "outputs": [],
   "source": []
  },
  {
   "cell_type": "markdown",
   "metadata": {},
   "source": [
    "#### 3) Quais foram os estados que mais gastaram em respiradores?"
   ]
  },
  {
   "cell_type": "code",
   "execution_count": null,
   "metadata": {},
   "outputs": [],
   "source": []
  },
  {
   "cell_type": "markdown",
   "metadata": {},
   "source": [
    "#### 4) Qual foi o gasto mensal em respiradores em todos os estados?"
   ]
  },
  {
   "cell_type": "code",
   "execution_count": null,
   "metadata": {},
   "outputs": [],
   "source": []
  },
  {
   "cell_type": "markdown",
   "metadata": {},
   "source": [
    "#### 5) Qual é a demanda dos tipos de respiradores das cidades do Rio Grande Sul?"
   ]
  },
  {
   "cell_type": "code",
   "execution_count": null,
   "metadata": {},
   "outputs": [],
   "source": []
  },
  {
   "cell_type": "markdown",
   "metadata": {},
   "source": [
    "#### 6) Qual foi o gasto mensal em respiradores no estado do Rio Grande do Sul?"
   ]
  },
  {
   "cell_type": "code",
   "execution_count": null,
   "metadata": {},
   "outputs": [],
   "source": []
  },
  {
   "cell_type": "markdown",
   "metadata": {},
   "source": [
    "#### 7) Qual foi a quantidade de respiradores por destinatário no estado do Rio Grande do Sul?"
   ]
  },
  {
   "cell_type": "code",
   "execution_count": null,
   "metadata": {},
   "outputs": [],
   "source": []
  },
  {
   "cell_type": "markdown",
   "metadata": {},
   "source": [
    "#### 8) Quantos respiradores o município de Alegrete/RS recebeu em relação à capital do Estado?"
   ]
  },
  {
   "cell_type": "code",
   "execution_count": null,
   "metadata": {},
   "outputs": [],
   "source": []
  }
 ],
 "metadata": {
  "kernelspec": {
   "display_name": "Python 3",
   "language": "python",
   "name": "python3"
  },
  "language_info": {
   "codemirror_mode": {
    "name": "ipython",
    "version": 3
   },
   "file_extension": ".py",
   "mimetype": "text/x-python",
   "name": "python",
   "nbconvert_exporter": "python",
   "pygments_lexer": "ipython3",
   "version": "3.8.5"
  }
 },
 "nbformat": 4,
 "nbformat_minor": 4
}
